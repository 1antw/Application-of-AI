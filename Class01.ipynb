{
  "nbformat": 4,
  "nbformat_minor": 0,
  "metadata": {
    "colab": {
      "name": "Class01.ipynb",
      "provenance": [],
      "collapsed_sections": [],
      "authorship_tag": "ABX9TyOFn8e1dY+bFTnSj6Jh/b19",
      "include_colab_link": true
    },
    "kernelspec": {
      "name": "python3",
      "display_name": "Python 3"
    },
    "language_info": {
      "name": "python"
    },
    "accelerator": "GPU",
    "gpuClass": "standard"
  },
  "cells": [
    {
      "cell_type": "markdown",
      "metadata": {
        "id": "view-in-github",
        "colab_type": "text"
      },
      "source": [
        "<a href=\"https://colab.research.google.com/github/1antw/Application-of-AI/blob/main/Class01.ipynb\" target=\"_parent\"><img src=\"https://colab.research.google.com/assets/colab-badge.svg\" alt=\"Open In Colab\"/></a>"
      ]
    },
    {
      "cell_type": "markdown",
      "source": [
        "#Pyhtorch Basic"
      ],
      "metadata": {
        "id": "vJph45tPfA-7"
      }
    },
    {
      "cell_type": "code",
      "execution_count": null,
      "metadata": {
        "id": "0oMaT8cVRX15"
      },
      "outputs": [],
      "source": [
        "import torch\n",
        "import numpy as np"
      ]
    },
    {
      "cell_type": "code",
      "source": [
        "tensor = torch.rand(2,3)\n",
        "matrix = np.random.rand(2,3)\n",
        "print(f\"Tensor:\\n {tensor}\")\n",
        "print(f\"Matrix:\\n {matrix}\")"
      ],
      "metadata": {
        "id": "VPWVFHp2TF9r"
      },
      "execution_count": null,
      "outputs": []
    },
    {
      "cell_type": "code",
      "source": [
        "tensor = torch.zeros(2,3)\n",
        "matrix = np.zeros((2,3))\n",
        "print(f\"Tensor:\\n {tensor}\")\n",
        "print(f\"Matrix:\\n {matrix}\")"
      ],
      "metadata": {
        "id": "H7l9JmhrTyrv"
      },
      "execution_count": null,
      "outputs": []
    },
    {
      "cell_type": "code",
      "source": [
        "tensor = torch.ones(2,3)\n",
        "matrix = np.ones((2,3))\n",
        "print(f\"Tensor:\\n {tensor}\")\n",
        "print(f\"Matrix:\\n {matrix}\")"
      ],
      "metadata": {
        "id": "UR4G9UlWT2Lj"
      },
      "execution_count": null,
      "outputs": []
    },
    {
      "cell_type": "code",
      "source": [
        "print(f\"Tensor:\\n {tensor.dtype}\")\n",
        "print(f\"Matrix:\\n {matrix.dtype}\")"
      ],
      "metadata": {
        "id": "pJg_qghUT3Ts"
      },
      "execution_count": null,
      "outputs": []
    },
    {
      "cell_type": "code",
      "source": [
        "print(f\"Tensor:\\n {tensor.size()}\") #.size() -> method\n",
        "print(f\"Tensor:\\n {tensor.shape}\") #.shpae -> attribute\n",
        "print(f\"Matrix:\\n {matrix.shape}\")"
      ],
      "metadata": {
        "id": "Eeo6Zv61Ub1p"
      },
      "execution_count": null,
      "outputs": []
    },
    {
      "cell_type": "code",
      "source": [
        "# list to torch\n",
        "tensor = torch.tensor([2.3, 1.2, 5.7])\n",
        "print(f\"Tensor:\\n {tensor.size()}\")\n",
        "\n",
        "# list to numpy\n",
        "matrix = np.array([2.3, 1.2, 5.7])\n",
        "print(f\"Matrix:\\n {matrix.shape}\")"
      ],
      "metadata": {
        "id": "ieedrk0OUoO4"
      },
      "execution_count": null,
      "outputs": []
    },
    {
      "cell_type": "code",
      "source": [
        "# numpy <=> torch # numpy->cpu torch->gpu\n",
        "tensor = torch.tensor([1, 2, 3])\n",
        "matrix = np.array([1, 2, 3])\n",
        "print(torch.from_numpy(matrix))\n",
        "print(tensor.numpy())"
      ],
      "metadata": {
        "id": "31dFhKHsV8_Y"
      },
      "execution_count": null,
      "outputs": []
    },
    {
      "cell_type": "code",
      "source": [
        "# call by reference 注意\n",
        "tensor = torch.tensor([1, 2, 3])\n",
        "matrix = tensor.numpy()\n",
        "\n",
        "tensor += 1 #全部加一\n",
        "print(tensor)\n",
        "print(matrix)"
      ],
      "metadata": {
        "id": "vHnTFp_cWZr2"
      },
      "execution_count": null,
      "outputs": []
    },
    {
      "cell_type": "code",
      "source": [
        "# operator \n",
        "t1 = torch.tensor([2.3, 1.2, 5.7])\n",
        "t2 = torch.tensor([3.2, 2.8, 7.8])\n",
        "print(torch.add(t1, t2)) # t1 + t2 直接也可以，但前面的比較好\n",
        "print(torch.sub(t1, t2)) # t1 - t2 直接也可以，但前面的比較好\n",
        "print(torch.mul(t1, t2)) # t1 * t2 直接也可以，但前面的比較好\n",
        "print(torch.div(t1, t2)) # t1 / t2 直接也可以，但前面的比較好"
      ],
      "metadata": {
        "id": "hiYqzt38Wl4K"
      },
      "execution_count": null,
      "outputs": []
    },
    {
      "cell_type": "code",
      "source": [
        "# slice\n",
        "tensor = torch.rand(5,3)\n",
        "print(tensor)\n",
        "print(tensor[:,1:3]) #前面row全部, 後面column 1到3不含3\n",
        "print(tensor[1,1].item()) #只有數值\n",
        "#print(tensor[1:1]) 前面會有個tensor"
      ],
      "metadata": {
        "id": "6-iUiFLWW-RO"
      },
      "execution_count": null,
      "outputs": []
    },
    {
      "cell_type": "code",
      "source": [
        "# view\n",
        "tensor = torch.rand(2,6)\n",
        "print(tensor)\n",
        "print(tensor.view(3,4))\n",
        "print(tensor.view(12))\n",
        "print(tensor.view(12,1))\n",
        "print(tensor.view(1,12))\n",
        "print(tensor.view(-1,3)) # -1=1*12/3, 無法整除會跳error"
      ],
      "metadata": {
        "id": "cle_xdtlXutQ"
      },
      "execution_count": null,
      "outputs": []
    },
    {
      "cell_type": "code",
      "source": [
        "# GPU\n",
        "print(torch.cuda.is_available()) #超重要\n",
        "# if torch.cuda.is_available():\n",
        "#   device = torch.device(\"cuda\")\n",
        "\n",
        "device = torch.device(\"cuda\" if torch.cuda.is_available() else \"cpu\")\n",
        "\n",
        "x = torch.rand(3,2).to(device)\n",
        "print(x)\n",
        "x = x.to(\"cpu\")\n",
        "print(x)"
      ],
      "metadata": {
        "id": "zDqaa_qJYjX4"
      },
      "execution_count": null,
      "outputs": []
    }
  ]
}