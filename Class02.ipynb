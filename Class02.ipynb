{
  "nbformat": 4,
  "nbformat_minor": 0,
  "metadata": {
    "colab": {
      "name": "Class02.ipynb",
      "provenance": [],
      "collapsed_sections": [],
      "authorship_tag": "ABX9TyMhQLCVMdiTAVii/aZyr8dX",
      "include_colab_link": true
    },
    "kernelspec": {
      "name": "python3",
      "display_name": "Python 3"
    },
    "language_info": {
      "name": "python"
    },
    "accelerator": "GPU",
    "gpuClass": "standard"
  },
  "cells": [
    {
      "cell_type": "markdown",
      "metadata": {
        "id": "view-in-github",
        "colab_type": "text"
      },
      "source": [
        "<a href=\"https://colab.research.google.com/github/1antw/Application-of-AI/blob/main/Class02.ipynb\" target=\"_parent\"><img src=\"https://colab.research.google.com/assets/colab-badge.svg\" alt=\"Open In Colab\"/></a>"
      ]
    },
    {
      "cell_type": "code",
      "execution_count": 8,
      "metadata": {
        "id": "pg63UZPbkf-p"
      },
      "outputs": [],
      "source": [
        "import torch\n",
        "import torch.nn as nn"
      ]
    },
    {
      "cell_type": "code",
      "source": [
        "# Binary Cross Entropy\n",
        "y_hat = torch.tensor([[0.77], [0.2], [0.12], [0.97]])\n",
        "y = torch.tensor([[1.], [0.], [0.], [1.]])\n",
        "bce = nn.BCELoss(reduction='none')\n",
        "loss = bce(y_hat, y)\n",
        "print(loss)"
      ],
      "metadata": {
        "colab": {
          "base_uri": "https://localhost:8080/"
        },
        "id": "kMTdtygEkiaJ",
        "outputId": "64f12b04-4335-47a1-96de-f263413fec5d"
      },
      "execution_count": 9,
      "outputs": [
        {
          "output_type": "stream",
          "name": "stdout",
          "text": [
            "tensor([[0.2614],\n",
            "        [0.2231],\n",
            "        [0.1278],\n",
            "        [0.0305]])\n"
          ]
        }
      ]
    },
    {
      "cell_type": "code",
      "source": [
        "# Softmax(Multi class)\n",
        "output = torch.tensor([[1.6, -0.8, 3.7], [0.2, -3.2, -1.6]]) #2x3\n",
        "softmax = nn.Softmax(dim=1) #dim=0 會是1.6 and 0.2這個維度做, dim=1 [1.6, -0.8, 3.7] and [0.2, -3.2, -1.6]\n",
        "print(softmax(output))\n",
        "softmax_test = nn.Softmax(dim=0)\n",
        "print(softmax_test(output))"
      ],
      "metadata": {
        "colab": {
          "base_uri": "https://localhost:8080/"
        },
        "id": "04Fp406TlORj",
        "outputId": "07b27469-ff55-44bf-eb57-fa9c3558c8f0"
      },
      "execution_count": 10,
      "outputs": [
        {
          "output_type": "stream",
          "name": "stdout",
          "text": [
            "tensor([[0.1080, 0.0098, 0.8822],\n",
            "        [0.8343, 0.0278, 0.1379]])\n",
            "tensor([[0.8022, 0.9168, 0.9950],\n",
            "        [0.1978, 0.0832, 0.0050]])\n"
          ]
        }
      ]
    }
  ]
}